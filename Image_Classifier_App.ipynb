{
  "cells": [
    {
      "cell_type": "markdown",
      "metadata": {
        "id": "view-in-github",
        "colab_type": "text"
      },
      "source": [
        "<a href=\"https://colab.research.google.com/github/welcomeNeo/hello-world/blob/master/Image_Classifier_App.ipynb\" target=\"_parent\"><img src=\"https://colab.research.google.com/assets/colab-badge.svg\" alt=\"Open In Colab\"/></a>"
      ]
    },
    {
      "cell_type": "code",
      "execution_count": 2,
      "metadata": {
        "id": "UqO1KhUZ58r2"
      },
      "outputs": [],
      "source": [
        "#hide\n",
        "from fastai.vision.all import *\n",
        "from fastai.vision.widgets import *"
      ]
    },
    {
      "cell_type": "code",
      "execution_count": 3,
      "metadata": {
        "id": "luQulcRZEwKS"
      },
      "outputs": [],
      "source": [
        "def is_cat(x): return x[0].isupper()\n",
        "learn_inf = load_learner(fname = './export.pkl')"
      ]
    },
    {
      "cell_type": "code",
      "execution_count": 4,
      "metadata": {
        "colab": {
          "base_uri": "https://localhost:8080/",
          "height": 49,
          "referenced_widgets": [
            "1a34defa0e284c5fbaff9668102f4bba",
            "dd98b1a754f349909c4634796179e338",
            "b10b16397c5246dd82badaf254254f2c"
          ]
        },
        "id": "QKwU5KUn6NQE",
        "outputId": "7170f736-2882-4483-e92e-19d919b996e2"
      },
      "outputs": [
        {
          "output_type": "display_data",
          "data": {
            "application/vnd.jupyter.widget-view+json": {
              "model_id": "1a34defa0e284c5fbaff9668102f4bba",
              "version_minor": 0,
              "version_major": 2
            },
            "text/plain": [
              "FileUpload(value={}, description='Upload')"
            ]
          },
          "metadata": {}
        }
      ],
      "source": [
        "#hide_output\n",
        "btn_upload = widgets.FileUpload()\n",
        "btn_upload\n"
      ]
    },
    {
      "cell_type": "code",
      "execution_count": 5,
      "metadata": {
        "id": "elT8IPzz6TpN"
      },
      "outputs": [],
      "source": [
        "img = PILImage.create(btn_upload.data[0])"
      ]
    },
    {
      "cell_type": "code",
      "execution_count": 6,
      "metadata": {
        "colab": {
          "base_uri": "https://localhost:8080/",
          "height": 145,
          "referenced_widgets": [
            "f9f6d1ebe63b4e1983891f719053166f",
            "5f52e4e09ed246db9aca4a915407ec1d"
          ]
        },
        "id": "1e45Rl8F6YL1",
        "outputId": "e977755c-3517-426a-f075-0a5cd841d565"
      },
      "outputs": [
        {
          "output_type": "display_data",
          "data": {
            "application/vnd.jupyter.widget-view+json": {
              "model_id": "f9f6d1ebe63b4e1983891f719053166f",
              "version_minor": 0,
              "version_major": 2
            },
            "text/plain": [
              "Output()"
            ]
          },
          "metadata": {}
        }
      ],
      "source": [
        "#hide_output\n",
        "out_pl = widgets.Output()\n",
        "out_pl.clear_output()\n",
        "with out_pl: display(img.to_thumb(128,128))\n",
        "out_pl"
      ]
    },
    {
      "cell_type": "code",
      "execution_count": 7,
      "metadata": {
        "colab": {
          "base_uri": "https://localhost:8080/",
          "height": 17
        },
        "id": "taSNhbHe6dtM",
        "outputId": "e21b9a2b-8493-4bec-9dff-0bb5d19eec6e"
      },
      "outputs": [
        {
          "output_type": "display_data",
          "data": {
            "text/html": [
              "\n",
              "<style>\n",
              "    /* Turns off some styling */\n",
              "    progress {\n",
              "        /* gets rid of default border in Firefox and Opera. */\n",
              "        border: none;\n",
              "        /* Needs to be in here for Safari polyfill so background images work as expected. */\n",
              "        background-size: auto;\n",
              "    }\n",
              "    .progress-bar-interrupted, .progress-bar-interrupted::-webkit-progress-bar {\n",
              "        background: #F44336;\n",
              "    }\n",
              "</style>\n"
            ],
            "text/plain": [
              "<IPython.core.display.HTML object>"
            ]
          },
          "metadata": {}
        },
        {
          "output_type": "display_data",
          "data": {
            "text/html": [
              ""
            ],
            "text/plain": [
              "<IPython.core.display.HTML object>"
            ]
          },
          "metadata": {}
        }
      ],
      "source": [
        "pred,pred_idx,probs = learn_inf.predict(img)"
      ]
    },
    {
      "cell_type": "code",
      "execution_count": 8,
      "metadata": {
        "colab": {
          "base_uri": "https://localhost:8080/",
          "height": 49,
          "referenced_widgets": [
            "020d7f5ea2c24d3b97b6276206e5ddc6",
            "8443e06d30c74b00b439c46f7509808f",
            "67c2bf7904914234b2fe9b5fc9fd48c0"
          ]
        },
        "id": "yRclkrX66kcs",
        "outputId": "64116d60-f43e-40ab-9859-8cad59b532f7"
      },
      "outputs": [
        {
          "output_type": "display_data",
          "data": {
            "application/vnd.jupyter.widget-view+json": {
              "model_id": "020d7f5ea2c24d3b97b6276206e5ddc6",
              "version_minor": 0,
              "version_major": 2
            },
            "text/plain": [
              "Label(value='Prediction: False; Probability: 0.8547')"
            ]
          },
          "metadata": {}
        }
      ],
      "source": [
        "#hide_output\n",
        "lbl_pred = widgets.Label()\n",
        "lbl_pred.value = f'Prediction: {pred}; Probability: {probs[pred_idx]:.04f}'\n",
        "lbl_pred"
      ]
    },
    {
      "cell_type": "code",
      "execution_count": 9,
      "metadata": {
        "colab": {
          "base_uri": "https://localhost:8080/",
          "height": 49,
          "referenced_widgets": [
            "c7591fa139844d9fa2723830b36def96",
            "0e44b791f1624daf87f1a493e37ea5df",
            "d105cbaebeb64570aeee7417d9fe2146"
          ]
        },
        "id": "N851j9ZD6nVm",
        "outputId": "7b2eed51-2e6a-4e17-ad3f-2717bac55def"
      },
      "outputs": [
        {
          "output_type": "display_data",
          "data": {
            "application/vnd.jupyter.widget-view+json": {
              "model_id": "c7591fa139844d9fa2723830b36def96",
              "version_minor": 0,
              "version_major": 2
            },
            "text/plain": [
              "Button(description='Classify', style=ButtonStyle())"
            ]
          },
          "metadata": {}
        }
      ],
      "source": [
        "#hide_output\n",
        "btn_run = widgets.Button(description='Classify')\n",
        "btn_run"
      ]
    },
    {
      "cell_type": "code",
      "execution_count": 10,
      "metadata": {
        "id": "j7OjPhIHGgrj"
      },
      "outputs": [],
      "source": [
        "def on_click_classify(change):\n",
        "    img = PILImage.create(btn_upload.data[-1])\n",
        "    out_pl.clear_output()\n",
        "    with out_pl: display(img.to_thumb(128,128))\n",
        "    pred,pred_idx,probs = learn_inf.predict(img)\n",
        "    lbl_pred.value = f'Prediction: {pred}; Probability: {probs[pred_idx]:.04f}'\n",
        "\n",
        "btn_run.on_click(on_click_classify)"
      ]
    },
    {
      "cell_type": "code",
      "execution_count": 11,
      "metadata": {
        "id": "b0LR5YNrGhEk"
      },
      "outputs": [],
      "source": [
        "#hide\n",
        "#Putting back btn_upload to a widget for next cell\n",
        "btn_upload = widgets.FileUpload()"
      ]
    },
    {
      "cell_type": "code",
      "execution_count": 12,
      "metadata": {
        "colab": {
          "base_uri": "https://localhost:8080/",
          "height": 273,
          "referenced_widgets": [
            "f101c54b3b9540b1a60bf336debe41f6",
            "48cca202e5ed4e65b8769e7606bc1bac",
            "8cbd80be34154abf8dcc1664a46db491",
            "2ed5b5fa4d9b40749216c3d961824454",
            "c7591fa139844d9fa2723830b36def96",
            "f9f6d1ebe63b4e1983891f719053166f",
            "020d7f5ea2c24d3b97b6276206e5ddc6",
            "2661d0dbc9d14d0a891fb63f0df96726",
            "aed1ee9e62264d3797a5011c1ab02ca4",
            "454e754179614597a1cb47a27b475a2b",
            "96de6ad6d271479abe64463a94210fc2",
            "0e44b791f1624daf87f1a493e37ea5df",
            "d105cbaebeb64570aeee7417d9fe2146",
            "8443e06d30c74b00b439c46f7509808f",
            "67c2bf7904914234b2fe9b5fc9fd48c0",
            "5f52e4e09ed246db9aca4a915407ec1d"
          ]
        },
        "id": "rvUlUWgoGjRO",
        "outputId": "7972028c-a6d4-42e6-bcf1-26ddd7150e4e"
      },
      "outputs": [
        {
          "output_type": "display_data",
          "data": {
            "application/vnd.jupyter.widget-view+json": {
              "model_id": "f101c54b3b9540b1a60bf336debe41f6",
              "version_minor": 0,
              "version_major": 2
            },
            "text/plain": [
              "VBox(children=(Label(value='Select your bear!'), FileUpload(value={}, description='Upload'), Button(descriptio…"
            ]
          },
          "metadata": {}
        },
        {
          "output_type": "display_data",
          "data": {
            "text/html": [
              "\n",
              "<style>\n",
              "    /* Turns off some styling */\n",
              "    progress {\n",
              "        /* gets rid of default border in Firefox and Opera. */\n",
              "        border: none;\n",
              "        /* Needs to be in here for Safari polyfill so background images work as expected. */\n",
              "        background-size: auto;\n",
              "    }\n",
              "    .progress-bar-interrupted, .progress-bar-interrupted::-webkit-progress-bar {\n",
              "        background: #F44336;\n",
              "    }\n",
              "</style>\n"
            ],
            "text/plain": [
              "<IPython.core.display.HTML object>"
            ]
          },
          "metadata": {}
        },
        {
          "output_type": "display_data",
          "data": {
            "text/html": [
              ""
            ],
            "text/plain": [
              "<IPython.core.display.HTML object>"
            ]
          },
          "metadata": {}
        }
      ],
      "source": [
        "#hide_output\n",
        "VBox([widgets.Label('Select your bear!'), \n",
        "      btn_upload, btn_run, out_pl, lbl_pred])"
      ]
    },
    {
      "cell_type": "code",
      "execution_count": 13,
      "metadata": {
        "colab": {
          "base_uri": "https://localhost:8080/",
          "height": 1000
        },
        "id": "3TdP0GcwGlgJ",
        "outputId": "aa97f152-5201-4267-b3c0-529a699f3ee5"
      },
      "outputs": [
        {
          "output_type": "stream",
          "name": "stdout",
          "text": [
            "Collecting voila\n",
            "  Downloading voila-0.3.2-py3-none-any.whl (1.7 MB)\n",
            "\u001b[K     |████████████████████████████████| 1.7 MB 12.6 MB/s \n",
            "\u001b[?25hCollecting jupyterlab-server<3,>=2.3.0\n",
            "  Downloading jupyterlab_server-2.10.3-py3-none-any.whl (61 kB)\n",
            "\u001b[K     |████████████████████████████████| 61 kB 10.5 MB/s \n",
            "\u001b[?25hCollecting websockets>=9.0\n",
            "  Downloading websockets-10.2-cp37-cp37m-manylinux_2_5_x86_64.manylinux1_x86_64.manylinux_2_12_x86_64.manylinux2010_x86_64.whl (111 kB)\n",
            "\u001b[K     |████████████████████████████████| 111 kB 73.3 MB/s \n",
            "\u001b[?25hRequirement already satisfied: nbconvert<7,>=6.4.2 in /usr/local/lib/python3.7/dist-packages (from voila) (6.4.2)\n",
            "Requirement already satisfied: nbclient<0.6,>=0.4.0 in /usr/local/lib/python3.7/dist-packages (from voila) (0.5.11)\n",
            "Collecting jupyter-server<2.0.0,>=0.3.0\n",
            "  Downloading jupyter_server-1.13.5-py3-none-any.whl (397 kB)\n",
            "\u001b[K     |████████████████████████████████| 397 kB 72.1 MB/s \n",
            "\u001b[?25hRequirement already satisfied: traitlets<6,>=5.0.3 in /usr/local/lib/python3.7/dist-packages (from voila) (5.1.1)\n",
            "Requirement already satisfied: jupyter-client<8,>=6.1.3 in /usr/local/lib/python3.7/dist-packages (from voila) (7.1.2)\n",
            "Requirement already satisfied: jupyter-core>=4.6.0 in /usr/local/lib/python3.7/dist-packages (from jupyter-client<8,>=6.1.3->voila) (4.9.2)\n",
            "Requirement already satisfied: python-dateutil>=2.1 in /usr/local/lib/python3.7/dist-packages (from jupyter-client<8,>=6.1.3->voila) (2.8.2)\n",
            "Requirement already satisfied: tornado>=4.1 in /usr/local/lib/python3.7/dist-packages (from jupyter-client<8,>=6.1.3->voila) (5.1.1)\n",
            "Requirement already satisfied: nest-asyncio>=1.5 in /usr/local/lib/python3.7/dist-packages (from jupyter-client<8,>=6.1.3->voila) (1.5.4)\n",
            "Requirement already satisfied: pyzmq>=13 in /usr/local/lib/python3.7/dist-packages (from jupyter-client<8,>=6.1.3->voila) (22.3.0)\n",
            "Requirement already satisfied: entrypoints in /usr/local/lib/python3.7/dist-packages (from jupyter-client<8,>=6.1.3->voila) (0.4)\n",
            "Requirement already satisfied: jinja2 in /usr/local/lib/python3.7/dist-packages (from jupyter-server<2.0.0,>=0.3.0->voila) (2.11.3)\n",
            "Requirement already satisfied: packaging in /usr/local/lib/python3.7/dist-packages (from jupyter-server<2.0.0,>=0.3.0->voila) (21.3)\n",
            "Requirement already satisfied: prometheus-client in /usr/local/lib/python3.7/dist-packages (from jupyter-server<2.0.0,>=0.3.0->voila) (0.13.1)\n",
            "Collecting tornado>=4.1\n",
            "  Downloading tornado-6.1-cp37-cp37m-manylinux2010_x86_64.whl (428 kB)\n",
            "\u001b[K     |████████████████████████████████| 428 kB 70.7 MB/s \n",
            "\u001b[?25hRequirement already satisfied: ipython-genutils in /usr/local/lib/python3.7/dist-packages (from jupyter-server<2.0.0,>=0.3.0->voila) (0.2.0)\n",
            "Requirement already satisfied: nbformat in /usr/local/lib/python3.7/dist-packages (from jupyter-server<2.0.0,>=0.3.0->voila) (5.1.3)\n",
            "Collecting anyio<4,>=3.1.0\n",
            "  Downloading anyio-3.5.0-py3-none-any.whl (79 kB)\n",
            "\u001b[K     |████████████████████████████████| 79 kB 10.7 MB/s \n",
            "\u001b[?25hRequirement already satisfied: Send2Trash in /usr/local/lib/python3.7/dist-packages (from jupyter-server<2.0.0,>=0.3.0->voila) (1.8.0)\n",
            "Collecting websocket-client\n",
            "  Downloading websocket_client-1.2.3-py3-none-any.whl (53 kB)\n",
            "\u001b[K     |████████████████████████████████| 53 kB 2.7 MB/s \n",
            "\u001b[?25hRequirement already satisfied: argon2-cffi in /usr/local/lib/python3.7/dist-packages (from jupyter-server<2.0.0,>=0.3.0->voila) (21.3.0)\n",
            "Requirement already satisfied: terminado>=0.8.3 in /usr/local/lib/python3.7/dist-packages (from jupyter-server<2.0.0,>=0.3.0->voila) (0.13.1)\n",
            "Requirement already satisfied: idna>=2.8 in /usr/local/lib/python3.7/dist-packages (from anyio<4,>=3.1.0->jupyter-server<2.0.0,>=0.3.0->voila) (2.10)\n",
            "Collecting sniffio>=1.1\n",
            "  Downloading sniffio-1.2.0-py3-none-any.whl (10 kB)\n",
            "Requirement already satisfied: typing-extensions in /usr/local/lib/python3.7/dist-packages (from anyio<4,>=3.1.0->jupyter-server<2.0.0,>=0.3.0->voila) (3.10.0.2)\n",
            "Collecting json5\n",
            "  Downloading json5-0.9.6-py2.py3-none-any.whl (18 kB)\n",
            "Requirement already satisfied: requests in /usr/local/lib/python3.7/dist-packages (from jupyterlab-server<3,>=2.3.0->voila) (2.23.0)\n",
            "Requirement already satisfied: jsonschema>=3.0.1 in /usr/local/lib/python3.7/dist-packages (from jupyterlab-server<3,>=2.3.0->voila) (4.3.3)\n",
            "Requirement already satisfied: babel in /usr/local/lib/python3.7/dist-packages (from jupyterlab-server<3,>=2.3.0->voila) (2.9.1)\n",
            "Requirement already satisfied: MarkupSafe>=0.23 in /usr/local/lib/python3.7/dist-packages (from jinja2->jupyter-server<2.0.0,>=0.3.0->voila) (2.0.1)\n",
            "Requirement already satisfied: importlib-metadata in /usr/local/lib/python3.7/dist-packages (from jsonschema>=3.0.1->jupyterlab-server<3,>=2.3.0->voila) (4.11.1)\n",
            "Requirement already satisfied: attrs>=17.4.0 in /usr/local/lib/python3.7/dist-packages (from jsonschema>=3.0.1->jupyterlab-server<3,>=2.3.0->voila) (21.4.0)\n",
            "Requirement already satisfied: importlib-resources>=1.4.0 in /usr/local/lib/python3.7/dist-packages (from jsonschema>=3.0.1->jupyterlab-server<3,>=2.3.0->voila) (5.4.0)\n",
            "Requirement already satisfied: pyrsistent!=0.17.0,!=0.17.1,!=0.17.2,>=0.14.0 in /usr/local/lib/python3.7/dist-packages (from jsonschema>=3.0.1->jupyterlab-server<3,>=2.3.0->voila) (0.18.1)\n",
            "Requirement already satisfied: zipp>=3.1.0 in /usr/local/lib/python3.7/dist-packages (from importlib-resources>=1.4.0->jsonschema>=3.0.1->jupyterlab-server<3,>=2.3.0->voila) (3.7.0)\n",
            "Requirement already satisfied: testpath in /usr/local/lib/python3.7/dist-packages (from nbconvert<7,>=6.4.2->voila) (0.5.0)\n",
            "Requirement already satisfied: jupyterlab-pygments in /usr/local/lib/python3.7/dist-packages (from nbconvert<7,>=6.4.2->voila) (0.1.2)\n",
            "Requirement already satisfied: bleach in /usr/local/lib/python3.7/dist-packages (from nbconvert<7,>=6.4.2->voila) (4.1.0)\n",
            "Requirement already satisfied: pandocfilters>=1.4.1 in /usr/local/lib/python3.7/dist-packages (from nbconvert<7,>=6.4.2->voila) (1.5.0)\n",
            "Requirement already satisfied: mistune<2,>=0.8.1 in /usr/local/lib/python3.7/dist-packages (from nbconvert<7,>=6.4.2->voila) (0.8.4)\n",
            "Requirement already satisfied: defusedxml in /usr/local/lib/python3.7/dist-packages (from nbconvert<7,>=6.4.2->voila) (0.7.1)\n",
            "Requirement already satisfied: pygments>=2.4.1 in /usr/local/lib/python3.7/dist-packages (from nbconvert<7,>=6.4.2->voila) (2.6.1)\n",
            "Requirement already satisfied: six>=1.5 in /usr/local/lib/python3.7/dist-packages (from python-dateutil>=2.1->jupyter-client<8,>=6.1.3->voila) (1.15.0)\n",
            "Requirement already satisfied: ptyprocess in /usr/local/lib/python3.7/dist-packages (from terminado>=0.8.3->jupyter-server<2.0.0,>=0.3.0->voila) (0.7.0)\n",
            "Requirement already satisfied: argon2-cffi-bindings in /usr/local/lib/python3.7/dist-packages (from argon2-cffi->jupyter-server<2.0.0,>=0.3.0->voila) (21.2.0)\n",
            "Requirement already satisfied: cffi>=1.0.1 in /usr/local/lib/python3.7/dist-packages (from argon2-cffi-bindings->argon2-cffi->jupyter-server<2.0.0,>=0.3.0->voila) (1.15.0)\n",
            "Requirement already satisfied: pycparser in /usr/local/lib/python3.7/dist-packages (from cffi>=1.0.1->argon2-cffi-bindings->argon2-cffi->jupyter-server<2.0.0,>=0.3.0->voila) (2.21)\n",
            "Requirement already satisfied: pytz>=2015.7 in /usr/local/lib/python3.7/dist-packages (from babel->jupyterlab-server<3,>=2.3.0->voila) (2018.9)\n",
            "Requirement already satisfied: webencodings in /usr/local/lib/python3.7/dist-packages (from bleach->nbconvert<7,>=6.4.2->voila) (0.5.1)\n",
            "Requirement already satisfied: pyparsing!=3.0.5,>=2.0.2 in /usr/local/lib/python3.7/dist-packages (from packaging->jupyter-server<2.0.0,>=0.3.0->voila) (3.0.7)\n",
            "Requirement already satisfied: urllib3!=1.25.0,!=1.25.1,<1.26,>=1.21.1 in /usr/local/lib/python3.7/dist-packages (from requests->jupyterlab-server<3,>=2.3.0->voila) (1.24.3)\n",
            "Requirement already satisfied: certifi>=2017.4.17 in /usr/local/lib/python3.7/dist-packages (from requests->jupyterlab-server<3,>=2.3.0->voila) (2021.10.8)\n",
            "Requirement already satisfied: chardet<4,>=3.0.2 in /usr/local/lib/python3.7/dist-packages (from requests->jupyterlab-server<3,>=2.3.0->voila) (3.0.4)\n",
            "Installing collected packages: tornado, sniffio, websocket-client, anyio, jupyter-server, json5, websockets, jupyterlab-server, voila\n",
            "  Attempting uninstall: tornado\n",
            "    Found existing installation: tornado 5.1.1\n",
            "    Uninstalling tornado-5.1.1:\n",
            "      Successfully uninstalled tornado-5.1.1\n",
            "\u001b[31mERROR: pip's dependency resolver does not currently take into account all the packages that are installed. This behaviour is the source of the following dependency conflicts.\n",
            "google-colab 1.0.0 requires tornado~=5.1.0; python_version >= \"3.0\", but you have tornado 6.1 which is incompatible.\u001b[0m\n",
            "Successfully installed anyio-3.5.0 json5-0.9.6 jupyter-server-1.13.5 jupyterlab-server-2.10.3 sniffio-1.2.0 tornado-6.1 voila-0.3.2 websocket-client-1.2.3 websockets-10.2\n"
          ]
        },
        {
          "output_type": "display_data",
          "data": {
            "application/vnd.colab-display-data+json": {
              "pip_warning": {
                "packages": [
                  "tornado"
                ]
              }
            }
          },
          "metadata": {}
        },
        {
          "output_type": "stream",
          "name": "stdout",
          "text": [
            "Enabling: voila\n",
            "- Writing config: /usr/etc/jupyter\n",
            "    - Validating...\n",
            "Error loading server extension voila\n",
            "     \u001b[31m X\u001b[0m is voila importable?\n"
          ]
        }
      ],
      "source": [
        "#hide\n",
        "!pip install voila\n",
        "!jupyter serverextension enable --sys-prefix voila "
      ]
    },
    {
      "cell_type": "code",
      "execution_count": null,
      "metadata": {
        "id": "RQ53W4H8GvNB"
      },
      "outputs": [],
      "source": [
        ""
      ]
    }
  ],
  "metadata": {
    "accelerator": "GPU",
    "colab": {
      "collapsed_sections": [],
      "name": "Image Classifier App",
      "provenance": [],
      "authorship_tag": "ABX9TyOV1JtNftWaVRlON0Jc8ww8",
      "include_colab_link": true
    },
    "kernelspec": {
      "display_name": "Python 3",
      "name": "python3"
    },
    "language_info": {
      "name": "python"
    },
    "widgets": {
      "application/vnd.jupyter.widget-state+json": {
        "1a34defa0e284c5fbaff9668102f4bba": {
          "model_module": "@jupyter-widgets/controls",
          "model_name": "FileUploadModel",
          "model_module_version": "1.5.0",
          "state": {
            "_view_name": "FileUploadView",
            "_counter": 1,
            "style": "IPY_MODEL_dd98b1a754f349909c4634796179e338",
            "_dom_classes": [],
            "description": "Upload",
            "multiple": false,
            "_model_name": "FileUploadModel",
            "data": [
              null
            ],
            "button_style": "",
            "_view_module": "@jupyter-widgets/controls",
            "_model_module_version": "1.5.0",
            "accept": "",
            "_view_count": null,
            "disabled": false,
            "_view_module_version": "1.5.0",
            "error": "",
            "description_tooltip": null,
            "metadata": [
              {
                "name": "tiger.jpeg",
                "type": "image/jpeg",
                "size": 233112,
                "lastModified": 1645712759277
              }
            ],
            "_model_module": "@jupyter-widgets/controls",
            "layout": "IPY_MODEL_b10b16397c5246dd82badaf254254f2c",
            "icon": "upload"
          }
        },
        "dd98b1a754f349909c4634796179e338": {
          "model_module": "@jupyter-widgets/controls",
          "model_name": "ButtonStyleModel",
          "model_module_version": "1.5.0",
          "state": {
            "_view_name": "StyleView",
            "_model_name": "ButtonStyleModel",
            "_view_module": "@jupyter-widgets/base",
            "_model_module_version": "1.5.0",
            "_view_count": null,
            "button_color": null,
            "font_weight": "",
            "_view_module_version": "1.2.0",
            "_model_module": "@jupyter-widgets/controls"
          }
        },
        "b10b16397c5246dd82badaf254254f2c": {
          "model_module": "@jupyter-widgets/base",
          "model_name": "LayoutModel",
          "model_module_version": "1.2.0",
          "state": {
            "_view_name": "LayoutView",
            "grid_template_rows": null,
            "right": null,
            "justify_content": null,
            "_view_module": "@jupyter-widgets/base",
            "overflow": null,
            "_model_module_version": "1.2.0",
            "_view_count": null,
            "flex_flow": null,
            "width": null,
            "min_width": null,
            "border": null,
            "align_items": null,
            "bottom": null,
            "_model_module": "@jupyter-widgets/base",
            "top": null,
            "grid_column": null,
            "overflow_y": null,
            "overflow_x": null,
            "grid_auto_flow": null,
            "grid_area": null,
            "grid_template_columns": null,
            "flex": null,
            "_model_name": "LayoutModel",
            "justify_items": null,
            "grid_row": null,
            "max_height": null,
            "align_content": null,
            "visibility": null,
            "align_self": null,
            "height": null,
            "min_height": null,
            "padding": null,
            "grid_auto_rows": null,
            "grid_gap": null,
            "max_width": null,
            "order": null,
            "_view_module_version": "1.2.0",
            "grid_template_areas": null,
            "object_position": null,
            "object_fit": null,
            "grid_auto_columns": null,
            "margin": null,
            "display": null,
            "left": null
          }
        },
        "f9f6d1ebe63b4e1983891f719053166f": {
          "model_module": "@jupyter-widgets/output",
          "model_name": "OutputModel",
          "model_module_version": "1.0.0",
          "state": {
            "_view_name": "OutputView",
            "msg_id": "",
            "_dom_classes": [],
            "_model_name": "OutputModel",
            "outputs": [
              {
                "output_type": "display_data",
                "data": {
                  "image/png": "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\n",
                  "text/plain": "<PIL.Image.Image image mode=RGB size=85x128 at 0x7F87B1C3F450>"
                },
                "metadata": {}
              }
            ],
            "_view_module": "@jupyter-widgets/output",
            "_model_module_version": "1.0.0",
            "_view_count": null,
            "_view_module_version": "1.0.0",
            "layout": "IPY_MODEL_5f52e4e09ed246db9aca4a915407ec1d",
            "_model_module": "@jupyter-widgets/output"
          }
        },
        "5f52e4e09ed246db9aca4a915407ec1d": {
          "model_module": "@jupyter-widgets/base",
          "model_name": "LayoutModel",
          "model_module_version": "1.2.0",
          "state": {
            "_view_name": "LayoutView",
            "grid_template_rows": null,
            "right": null,
            "justify_content": null,
            "_view_module": "@jupyter-widgets/base",
            "overflow": null,
            "_model_module_version": "1.2.0",
            "_view_count": null,
            "flex_flow": null,
            "width": null,
            "min_width": null,
            "border": null,
            "align_items": null,
            "bottom": null,
            "_model_module": "@jupyter-widgets/base",
            "top": null,
            "grid_column": null,
            "overflow_y": null,
            "overflow_x": null,
            "grid_auto_flow": null,
            "grid_area": null,
            "grid_template_columns": null,
            "flex": null,
            "_model_name": "LayoutModel",
            "justify_items": null,
            "grid_row": null,
            "max_height": null,
            "align_content": null,
            "visibility": null,
            "align_self": null,
            "height": null,
            "min_height": null,
            "padding": null,
            "grid_auto_rows": null,
            "grid_gap": null,
            "max_width": null,
            "order": null,
            "_view_module_version": "1.2.0",
            "grid_template_areas": null,
            "object_position": null,
            "object_fit": null,
            "grid_auto_columns": null,
            "margin": null,
            "display": null,
            "left": null
          }
        },
        "020d7f5ea2c24d3b97b6276206e5ddc6": {
          "model_module": "@jupyter-widgets/controls",
          "model_name": "LabelModel",
          "model_module_version": "1.5.0",
          "state": {
            "_view_name": "LabelView",
            "style": "IPY_MODEL_8443e06d30c74b00b439c46f7509808f",
            "_dom_classes": [],
            "description": "",
            "_model_name": "LabelModel",
            "placeholder": "​",
            "_view_module": "@jupyter-widgets/controls",
            "_model_module_version": "1.5.0",
            "value": "Prediction: True; Probability: 1.0000",
            "_view_count": null,
            "_view_module_version": "1.5.0",
            "description_tooltip": null,
            "_model_module": "@jupyter-widgets/controls",
            "layout": "IPY_MODEL_67c2bf7904914234b2fe9b5fc9fd48c0"
          }
        },
        "8443e06d30c74b00b439c46f7509808f": {
          "model_module": "@jupyter-widgets/controls",
          "model_name": "DescriptionStyleModel",
          "model_module_version": "1.5.0",
          "state": {
            "_view_name": "StyleView",
            "_model_name": "DescriptionStyleModel",
            "description_width": "",
            "_view_module": "@jupyter-widgets/base",
            "_model_module_version": "1.5.0",
            "_view_count": null,
            "_view_module_version": "1.2.0",
            "_model_module": "@jupyter-widgets/controls"
          }
        },
        "67c2bf7904914234b2fe9b5fc9fd48c0": {
          "model_module": "@jupyter-widgets/base",
          "model_name": "LayoutModel",
          "model_module_version": "1.2.0",
          "state": {
            "_view_name": "LayoutView",
            "grid_template_rows": null,
            "right": null,
            "justify_content": null,
            "_view_module": "@jupyter-widgets/base",
            "overflow": null,
            "_model_module_version": "1.2.0",
            "_view_count": null,
            "flex_flow": null,
            "width": null,
            "min_width": null,
            "border": null,
            "align_items": null,
            "bottom": null,
            "_model_module": "@jupyter-widgets/base",
            "top": null,
            "grid_column": null,
            "overflow_y": null,
            "overflow_x": null,
            "grid_auto_flow": null,
            "grid_area": null,
            "grid_template_columns": null,
            "flex": null,
            "_model_name": "LayoutModel",
            "justify_items": null,
            "grid_row": null,
            "max_height": null,
            "align_content": null,
            "visibility": null,
            "align_self": null,
            "height": null,
            "min_height": null,
            "padding": null,
            "grid_auto_rows": null,
            "grid_gap": null,
            "max_width": null,
            "order": null,
            "_view_module_version": "1.2.0",
            "grid_template_areas": null,
            "object_position": null,
            "object_fit": null,
            "grid_auto_columns": null,
            "margin": null,
            "display": null,
            "left": null
          }
        },
        "c7591fa139844d9fa2723830b36def96": {
          "model_module": "@jupyter-widgets/controls",
          "model_name": "ButtonModel",
          "model_module_version": "1.5.0",
          "state": {
            "_view_name": "ButtonView",
            "style": "IPY_MODEL_0e44b791f1624daf87f1a493e37ea5df",
            "_dom_classes": [],
            "description": "Classify",
            "_model_name": "ButtonModel",
            "button_style": "",
            "_view_module": "@jupyter-widgets/controls",
            "_model_module_version": "1.5.0",
            "tooltip": "",
            "_view_count": null,
            "disabled": false,
            "_view_module_version": "1.5.0",
            "layout": "IPY_MODEL_d105cbaebeb64570aeee7417d9fe2146",
            "_model_module": "@jupyter-widgets/controls",
            "icon": ""
          }
        },
        "0e44b791f1624daf87f1a493e37ea5df": {
          "model_module": "@jupyter-widgets/controls",
          "model_name": "ButtonStyleModel",
          "model_module_version": "1.5.0",
          "state": {
            "_view_name": "StyleView",
            "_model_name": "ButtonStyleModel",
            "_view_module": "@jupyter-widgets/base",
            "_model_module_version": "1.5.0",
            "_view_count": null,
            "button_color": null,
            "font_weight": "",
            "_view_module_version": "1.2.0",
            "_model_module": "@jupyter-widgets/controls"
          }
        },
        "d105cbaebeb64570aeee7417d9fe2146": {
          "model_module": "@jupyter-widgets/base",
          "model_name": "LayoutModel",
          "model_module_version": "1.2.0",
          "state": {
            "_view_name": "LayoutView",
            "grid_template_rows": null,
            "right": null,
            "justify_content": null,
            "_view_module": "@jupyter-widgets/base",
            "overflow": null,
            "_model_module_version": "1.2.0",
            "_view_count": null,
            "flex_flow": null,
            "width": null,
            "min_width": null,
            "border": null,
            "align_items": null,
            "bottom": null,
            "_model_module": "@jupyter-widgets/base",
            "top": null,
            "grid_column": null,
            "overflow_y": null,
            "overflow_x": null,
            "grid_auto_flow": null,
            "grid_area": null,
            "grid_template_columns": null,
            "flex": null,
            "_model_name": "LayoutModel",
            "justify_items": null,
            "grid_row": null,
            "max_height": null,
            "align_content": null,
            "visibility": null,
            "align_self": null,
            "height": null,
            "min_height": null,
            "padding": null,
            "grid_auto_rows": null,
            "grid_gap": null,
            "max_width": null,
            "order": null,
            "_view_module_version": "1.2.0",
            "grid_template_areas": null,
            "object_position": null,
            "object_fit": null,
            "grid_auto_columns": null,
            "margin": null,
            "display": null,
            "left": null
          }
        },
        "f101c54b3b9540b1a60bf336debe41f6": {
          "model_module": "@jupyter-widgets/controls",
          "model_name": "VBoxModel",
          "model_module_version": "1.5.0",
          "state": {
            "_view_name": "VBoxView",
            "_dom_classes": [],
            "_model_name": "VBoxModel",
            "_view_module": "@jupyter-widgets/controls",
            "_model_module_version": "1.5.0",
            "_view_count": null,
            "_view_module_version": "1.5.0",
            "box_style": "",
            "layout": "IPY_MODEL_48cca202e5ed4e65b8769e7606bc1bac",
            "_model_module": "@jupyter-widgets/controls",
            "children": [
              "IPY_MODEL_8cbd80be34154abf8dcc1664a46db491",
              "IPY_MODEL_2ed5b5fa4d9b40749216c3d961824454",
              "IPY_MODEL_c7591fa139844d9fa2723830b36def96",
              "IPY_MODEL_f9f6d1ebe63b4e1983891f719053166f",
              "IPY_MODEL_020d7f5ea2c24d3b97b6276206e5ddc6"
            ]
          }
        },
        "48cca202e5ed4e65b8769e7606bc1bac": {
          "model_module": "@jupyter-widgets/base",
          "model_name": "LayoutModel",
          "model_module_version": "1.2.0",
          "state": {
            "_view_name": "LayoutView",
            "grid_template_rows": null,
            "right": null,
            "justify_content": null,
            "_view_module": "@jupyter-widgets/base",
            "overflow": null,
            "_model_module_version": "1.2.0",
            "_view_count": null,
            "flex_flow": null,
            "width": null,
            "min_width": null,
            "border": null,
            "align_items": null,
            "bottom": null,
            "_model_module": "@jupyter-widgets/base",
            "top": null,
            "grid_column": null,
            "overflow_y": null,
            "overflow_x": null,
            "grid_auto_flow": null,
            "grid_area": null,
            "grid_template_columns": null,
            "flex": null,
            "_model_name": "LayoutModel",
            "justify_items": null,
            "grid_row": null,
            "max_height": null,
            "align_content": null,
            "visibility": null,
            "align_self": null,
            "height": null,
            "min_height": null,
            "padding": null,
            "grid_auto_rows": null,
            "grid_gap": null,
            "max_width": null,
            "order": null,
            "_view_module_version": "1.2.0",
            "grid_template_areas": null,
            "object_position": null,
            "object_fit": null,
            "grid_auto_columns": null,
            "margin": null,
            "display": null,
            "left": null
          }
        },
        "8cbd80be34154abf8dcc1664a46db491": {
          "model_module": "@jupyter-widgets/controls",
          "model_name": "LabelModel",
          "model_module_version": "1.5.0",
          "state": {
            "_view_name": "LabelView",
            "style": "IPY_MODEL_2661d0dbc9d14d0a891fb63f0df96726",
            "_dom_classes": [],
            "description": "",
            "_model_name": "LabelModel",
            "placeholder": "​",
            "_view_module": "@jupyter-widgets/controls",
            "_model_module_version": "1.5.0",
            "value": "Select your bear!",
            "_view_count": null,
            "_view_module_version": "1.5.0",
            "description_tooltip": null,
            "_model_module": "@jupyter-widgets/controls",
            "layout": "IPY_MODEL_aed1ee9e62264d3797a5011c1ab02ca4"
          }
        },
        "2ed5b5fa4d9b40749216c3d961824454": {
          "model_module": "@jupyter-widgets/controls",
          "model_name": "FileUploadModel",
          "model_module_version": "1.5.0",
          "state": {
            "_view_name": "FileUploadView",
            "_counter": 1,
            "style": "IPY_MODEL_454e754179614597a1cb47a27b475a2b",
            "_dom_classes": [],
            "description": "Upload",
            "multiple": false,
            "_model_name": "FileUploadModel",
            "data": [
              null
            ],
            "button_style": "",
            "_view_module": "@jupyter-widgets/controls",
            "_model_module_version": "1.5.0",
            "accept": "",
            "_view_count": null,
            "disabled": false,
            "_view_module_version": "1.5.0",
            "error": "",
            "description_tooltip": null,
            "metadata": [
              {
                "name": "cat.jpeg",
                "type": "image/jpeg",
                "size": 124996,
                "lastModified": 1645706087172
              }
            ],
            "_model_module": "@jupyter-widgets/controls",
            "layout": "IPY_MODEL_96de6ad6d271479abe64463a94210fc2",
            "icon": "upload"
          }
        },
        "2661d0dbc9d14d0a891fb63f0df96726": {
          "model_module": "@jupyter-widgets/controls",
          "model_name": "DescriptionStyleModel",
          "model_module_version": "1.5.0",
          "state": {
            "_view_name": "StyleView",
            "_model_name": "DescriptionStyleModel",
            "description_width": "",
            "_view_module": "@jupyter-widgets/base",
            "_model_module_version": "1.5.0",
            "_view_count": null,
            "_view_module_version": "1.2.0",
            "_model_module": "@jupyter-widgets/controls"
          }
        },
        "aed1ee9e62264d3797a5011c1ab02ca4": {
          "model_module": "@jupyter-widgets/base",
          "model_name": "LayoutModel",
          "model_module_version": "1.2.0",
          "state": {
            "_view_name": "LayoutView",
            "grid_template_rows": null,
            "right": null,
            "justify_content": null,
            "_view_module": "@jupyter-widgets/base",
            "overflow": null,
            "_model_module_version": "1.2.0",
            "_view_count": null,
            "flex_flow": null,
            "width": null,
            "min_width": null,
            "border": null,
            "align_items": null,
            "bottom": null,
            "_model_module": "@jupyter-widgets/base",
            "top": null,
            "grid_column": null,
            "overflow_y": null,
            "overflow_x": null,
            "grid_auto_flow": null,
            "grid_area": null,
            "grid_template_columns": null,
            "flex": null,
            "_model_name": "LayoutModel",
            "justify_items": null,
            "grid_row": null,
            "max_height": null,
            "align_content": null,
            "visibility": null,
            "align_self": null,
            "height": null,
            "min_height": null,
            "padding": null,
            "grid_auto_rows": null,
            "grid_gap": null,
            "max_width": null,
            "order": null,
            "_view_module_version": "1.2.0",
            "grid_template_areas": null,
            "object_position": null,
            "object_fit": null,
            "grid_auto_columns": null,
            "margin": null,
            "display": null,
            "left": null
          }
        },
        "454e754179614597a1cb47a27b475a2b": {
          "model_module": "@jupyter-widgets/controls",
          "model_name": "ButtonStyleModel",
          "model_module_version": "1.5.0",
          "state": {
            "_view_name": "StyleView",
            "_model_name": "ButtonStyleModel",
            "_view_module": "@jupyter-widgets/base",
            "_model_module_version": "1.5.0",
            "_view_count": null,
            "button_color": null,
            "font_weight": "",
            "_view_module_version": "1.2.0",
            "_model_module": "@jupyter-widgets/controls"
          }
        },
        "96de6ad6d271479abe64463a94210fc2": {
          "model_module": "@jupyter-widgets/base",
          "model_name": "LayoutModel",
          "model_module_version": "1.2.0",
          "state": {
            "_view_name": "LayoutView",
            "grid_template_rows": null,
            "right": null,
            "justify_content": null,
            "_view_module": "@jupyter-widgets/base",
            "overflow": null,
            "_model_module_version": "1.2.0",
            "_view_count": null,
            "flex_flow": null,
            "width": null,
            "min_width": null,
            "border": null,
            "align_items": null,
            "bottom": null,
            "_model_module": "@jupyter-widgets/base",
            "top": null,
            "grid_column": null,
            "overflow_y": null,
            "overflow_x": null,
            "grid_auto_flow": null,
            "grid_area": null,
            "grid_template_columns": null,
            "flex": null,
            "_model_name": "LayoutModel",
            "justify_items": null,
            "grid_row": null,
            "max_height": null,
            "align_content": null,
            "visibility": null,
            "align_self": null,
            "height": null,
            "min_height": null,
            "padding": null,
            "grid_auto_rows": null,
            "grid_gap": null,
            "max_width": null,
            "order": null,
            "_view_module_version": "1.2.0",
            "grid_template_areas": null,
            "object_position": null,
            "object_fit": null,
            "grid_auto_columns": null,
            "margin": null,
            "display": null,
            "left": null
          }
        }
      }
    }
  },
  "nbformat": 4,
  "nbformat_minor": 0
}